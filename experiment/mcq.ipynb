{
 "cells": [
  {
   "cell_type": "code",
   "execution_count": 135,
   "id": "4eb3053d",
   "metadata": {},
   "outputs": [],
   "source": [
    "from dotenv  import load_dotenv"
   ]
  },
  {
   "cell_type": "code",
   "execution_count": 136,
   "id": "17789ef4",
   "metadata": {},
   "outputs": [],
   "source": [
    "import json\n",
    "import pandas as pd\n",
    "import traceback\n",
    "import os"
   ]
  },
  {
   "cell_type": "code",
   "execution_count": 137,
   "id": "03585d4d",
   "metadata": {},
   "outputs": [],
   "source": [
    "from langchain.chat_models import ChatOpenAI"
   ]
  },
  {
   "cell_type": "code",
   "execution_count": 138,
   "id": "4288c830",
   "metadata": {},
   "outputs": [
    {
     "data": {
      "text/plain": [
       "True"
      ]
     },
     "execution_count": 138,
     "metadata": {},
     "output_type": "execute_result"
    }
   ],
   "source": [
    "load_dotenv()"
   ]
  },
  {
   "cell_type": "code",
   "execution_count": 139,
   "id": "1b3c870d",
   "metadata": {},
   "outputs": [],
   "source": [
    "\n",
    "apiKey=os.getenv(\"OPENAI_API_KEY\")\n",
    "if apiKey is None:\n",
    "    raise ValueError(\"Please set the OPENAI_API_KEY environment variable.\")"
   ]
  },
  {
   "cell_type": "code",
   "execution_count": 140,
   "id": "81718a5a",
   "metadata": {},
   "outputs": [],
   "source": [
    "chat_client=ChatOpenAI(\n",
    "    openai_api_key=apiKey,\n",
    "    model=\"gpt-3.5-turbo\",\n",
    "    temperature=0.5,\n",
    "    max_tokens=1000,\n",
    "    n=1\n",
    ")"
   ]
  },
  {
   "cell_type": "code",
   "execution_count": 141,
   "id": "0f5099dc",
   "metadata": {},
   "outputs": [],
   "source": [
    "from langchain.llms import OpenAI\n",
    "from langchain.prompts import PromptTemplate\n",
    "from langchain.chains import LLMChain\n",
    "from langchain.chains import SequentialChain\n",
    "from langchain.callbacks import get_openai_callback\n",
    "import PyPDF2"
   ]
  },
  {
   "cell_type": "code",
   "execution_count": 142,
   "id": "6df0105a",
   "metadata": {},
   "outputs": [],
   "source": [
    "RESPONSE_JSON = {\n",
    "    \"1\": {\n",
    "        \"mcq\": \"multiple choice question\",\n",
    "        \"options\": {\n",
    "            \"a\": \"choice here\",\n",
    "            \"b\": \"choice here\",\n",
    "            \"c\": \"choice here\",\n",
    "            \"d\": \"choice here\",\n",
    "        },\n",
    "        \"correct\": \"correct answer\",\n",
    "    },\n",
    "    \"2\": {\n",
    "        \"mcq\": \"multiple choice question\",\n",
    "        \"options\": {\n",
    "            \"a\": \"choice here\",\n",
    "            \"b\": \"choice here\",\n",
    "            \"c\": \"choice here\",\n",
    "            \"d\": \"choice here\",\n",
    "        },\n",
    "        \"correct\": \"correct answer\",\n",
    "    },\n",
    "    \"3\": {\n",
    "        \"mcq\": \"multiple choice question\",\n",
    "        \"options\": {\n",
    "            \"a\": \"choice here\",\n",
    "            \"b\": \"choice here\",\n",
    "            \"c\": \"choice here\",\n",
    "            \"d\": \"choice here\",\n",
    "        },\n",
    "        \"correct\": \"correct answer\",\n",
    "    },\n",
    "}"
   ]
  },
  {
   "cell_type": "code",
   "execution_count": 143,
   "id": "51d5f685",
   "metadata": {},
   "outputs": [],
   "source": [
    "TEMPLATE=\"\"\"\n",
    "Text:{text}\n",
    "You are an expert MCQ maker. Given the above text, it is your job to \\\n",
    "create a quiz  of {number} multiple choice questions for {subject} students in {tone} tone. \n",
    "Make sure the questions are not repeated and check all the questions to be conforming the text as well.\n",
    "Make sure to format your response like  RESPONSE_JSON below  and use it as a guide. \\\n",
    "Ensure to make {number} MCQs\n",
    "### RESPONSE_JSON\n",
    "{response_json}\n",
    "\"\"\""
   ]
  },
  {
   "cell_type": "code",
   "execution_count": 144,
   "id": "832f1818",
   "metadata": {},
   "outputs": [],
   "source": [
    "quiz_generation_prompt = PromptTemplate(\n",
    "    input_variables=[\"text\",\"number\",\"subject\",\"tone\",\"response_json\"],\n",
    "    template=TEMPLATE\n",
    " )"
   ]
  },
  {
   "cell_type": "code",
   "execution_count": null,
   "id": "96c0591b",
   "metadata": {},
   "outputs": [],
   "source": []
  },
  {
   "cell_type": "code",
   "execution_count": 145,
   "id": "3cbc4505",
   "metadata": {},
   "outputs": [],
   "source": [
    "quiz_chain=LLMChain(llm=chat_client, prompt=quiz_generation_prompt, verbose=True,  output_key=\"quiz\")"
   ]
  },
  {
   "cell_type": "code",
   "execution_count": 146,
   "id": "86b9efaa",
   "metadata": {},
   "outputs": [],
   "source": [
    "TEMPLATE2=\"\"\"\n",
    "You are an expert in english gramary and writer. Given a Multiple Choice Quiz for {subject} students.\\\n",
    "You need to evaluate the complexity of the question and give a complete analysis of the quiz. Only use at max 50 words for complexity analysis. \n",
    "if the quiz is not at per with the cognitive and analytical abilities of the students,\\\n",
    "update the quiz questions which needs to be changed and change the tone such that it perfectly fits the student abilities\n",
    "Quiz_MCQs:\n",
    "{quiz}\n",
    "\n",
    "Check from an expert English Writer of the above quiz:\n",
    "\"\"\""
   ]
  },
  {
   "cell_type": "code",
   "execution_count": 147,
   "id": "032dfbaf",
   "metadata": {},
   "outputs": [],
   "source": [
    "quiz_evaluation_prompt = PromptTemplate(input_variables=[\"quiz\",\"subject\"], template=TEMPLATE2)"
   ]
  },
  {
   "cell_type": "code",
   "execution_count": 148,
   "id": "0c33239d",
   "metadata": {},
   "outputs": [],
   "source": [
    "review_chain=LLMChain(llm=chat_client,prompt=quiz_evaluation_prompt,verbose=True,output_key=\"review\")\n"
   ]
  },
  {
   "cell_type": "code",
   "execution_count": 149,
   "id": "7891c201",
   "metadata": {},
   "outputs": [],
   "source": [
    "generate_evaluate_chain=SequentialChain(chains=[quiz_chain, review_chain],  input_variables=[\"text\",\"number\",\"subject\",\"tone\",\"response_json\"],\n",
    "                                        output_variables=[\"quiz\", \"review\"], verbose=True,)"
   ]
  },
  {
   "cell_type": "code",
   "execution_count": 150,
   "id": "0a6721f9",
   "metadata": {},
   "outputs": [],
   "source": [
    "with open(\"../data.txt\", \"r\") as f:\n",
    "    TEXT=f.read()"
   ]
  },
  {
   "cell_type": "code",
   "execution_count": 151,
   "id": "24f80410",
   "metadata": {},
   "outputs": [
    {
     "data": {
      "text/plain": [
       "'Biology is the scientific study of life.[1][2][3] It is a natural science with a broad scope but has several unifying themes that tie it together as a single, coherent field.[1][2][3] For instance, all organisms are made up of cells that process hereditary information encoded in genes, which can be transmitted to future generations. Another major theme is evolution, which explains the unity and diversity of life.[1][2][3] Energy processing is also important to life as it allows organisms to move, grow, and reproduce.[1][2][3] Finally, all organisms are able to regulate their own internal environments.[1][2][3][4][5]\\n\\nBiologists are able to study life at multiple levels of organization,[1] from the molecular biology of a cell to the anatomy and physiology of plants and animals, and evolution of populations.[1][6] Hence, there are multiple subdisciplines within biology, each defined by the nature of their research questions and the tools that they use.[7][8][9] Like other scientists, biologists use the scientific method to make observations, pose questions, generate hypotheses, perform experiments, and form conclusions about the world around them.[1]\\n\\nLife on Earth, which emerged more than 3.7 billion years ago,[10] is immensely diverse. Biologists have sought to study and classify the various forms of life, from prokaryotic organisms such as archaea and bacteria to eukaryotic organisms such as protists, fungi, plants, and animals. These various organisms contribute to the biodiversity of an ecosystem, where they play specialized roles in the cycling of nutrients and energy through their biophysical environment.'"
      ]
     },
     "execution_count": 151,
     "metadata": {},
     "output_type": "execute_result"
    }
   ],
   "source": [
    "TEXT"
   ]
  },
  {
   "cell_type": "code",
   "execution_count": 152,
   "id": "3cadb3fd",
   "metadata": {},
   "outputs": [],
   "source": [
    "str_res_json=json.dumps(RESPONSE_JSON, indent=4)"
   ]
  },
  {
   "cell_type": "code",
   "execution_count": 153,
   "id": "575da41e",
   "metadata": {},
   "outputs": [
    {
     "data": {
      "text/plain": [
       "'{\\n    \"1\": {\\n        \"mcq\": \"multiple choice question\",\\n        \"options\": {\\n            \"a\": \"choice here\",\\n            \"b\": \"choice here\",\\n            \"c\": \"choice here\",\\n            \"d\": \"choice here\"\\n        },\\n        \"correct\": \"correct answer\"\\n    },\\n    \"2\": {\\n        \"mcq\": \"multiple choice question\",\\n        \"options\": {\\n            \"a\": \"choice here\",\\n            \"b\": \"choice here\",\\n            \"c\": \"choice here\",\\n            \"d\": \"choice here\"\\n        },\\n        \"correct\": \"correct answer\"\\n    },\\n    \"3\": {\\n        \"mcq\": \"multiple choice question\",\\n        \"options\": {\\n            \"a\": \"choice here\",\\n            \"b\": \"choice here\",\\n            \"c\": \"choice here\",\\n            \"d\": \"choice here\"\\n        },\\n        \"correct\": \"correct answer\"\\n    }\\n}'"
      ]
     },
     "execution_count": 153,
     "metadata": {},
     "output_type": "execute_result"
    }
   ],
   "source": [
    "str_res_json"
   ]
  },
  {
   "cell_type": "code",
   "execution_count": 154,
   "id": "92d7ee1a",
   "metadata": {},
   "outputs": [],
   "source": [
    "NUMBER=3\n",
    "SUBJECT=\"Biology\"\n",
    "TONE=\"simple\""
   ]
  },
  {
   "cell_type": "code",
   "execution_count": 155,
   "id": "5a574974",
   "metadata": {},
   "outputs": [
    {
     "name": "stderr",
     "output_type": "stream",
     "text": [
      "Error in StdOutCallbackHandler.on_chain_start callback: AttributeError(\"'NoneType' object has no attribute 'get'\")\n",
      "Error in StdOutCallbackHandler.on_chain_start callback: AttributeError(\"'NoneType' object has no attribute 'get'\")\n"
     ]
    },
    {
     "name": "stdout",
     "output_type": "stream",
     "text": [
      "Prompt after formatting:\n",
      "\u001b[32;1m\u001b[1;3m\n",
      "Text:Biology is the scientific study of life.[1][2][3] It is a natural science with a broad scope but has several unifying themes that tie it together as a single, coherent field.[1][2][3] For instance, all organisms are made up of cells that process hereditary information encoded in genes, which can be transmitted to future generations. Another major theme is evolution, which explains the unity and diversity of life.[1][2][3] Energy processing is also important to life as it allows organisms to move, grow, and reproduce.[1][2][3] Finally, all organisms are able to regulate their own internal environments.[1][2][3][4][5]\n",
      "\n",
      "Biologists are able to study life at multiple levels of organization,[1] from the molecular biology of a cell to the anatomy and physiology of plants and animals, and evolution of populations.[1][6] Hence, there are multiple subdisciplines within biology, each defined by the nature of their research questions and the tools that they use.[7][8][9] Like other scientists, biologists use the scientific method to make observations, pose questions, generate hypotheses, perform experiments, and form conclusions about the world around them.[1]\n",
      "\n",
      "Life on Earth, which emerged more than 3.7 billion years ago,[10] is immensely diverse. Biologists have sought to study and classify the various forms of life, from prokaryotic organisms such as archaea and bacteria to eukaryotic organisms such as protists, fungi, plants, and animals. These various organisms contribute to the biodiversity of an ecosystem, where they play specialized roles in the cycling of nutrients and energy through their biophysical environment.\n",
      "You are an expert MCQ maker. Given the above text, it is your job to create a quiz  of 3 multiple choice questions for Biology students in simple tone. \n",
      "Make sure the questions are not repeated and check all the questions to be conforming the text as well.\n",
      "Make sure to format your response like  RESPONSE_JSON below  and use it as a guide. Ensure to make 3 MCQs\n",
      "### RESPONSE_JSON\n",
      "{\n",
      "    \"1\": {\n",
      "        \"mcq\": \"multiple choice question\",\n",
      "        \"options\": {\n",
      "            \"a\": \"choice here\",\n",
      "            \"b\": \"choice here\",\n",
      "            \"c\": \"choice here\",\n",
      "            \"d\": \"choice here\"\n",
      "        },\n",
      "        \"correct\": \"correct answer\"\n",
      "    },\n",
      "    \"2\": {\n",
      "        \"mcq\": \"multiple choice question\",\n",
      "        \"options\": {\n",
      "            \"a\": \"choice here\",\n",
      "            \"b\": \"choice here\",\n",
      "            \"c\": \"choice here\",\n",
      "            \"d\": \"choice here\"\n",
      "        },\n",
      "        \"correct\": \"correct answer\"\n",
      "    },\n",
      "    \"3\": {\n",
      "        \"mcq\": \"multiple choice question\",\n",
      "        \"options\": {\n",
      "            \"a\": \"choice here\",\n",
      "            \"b\": \"choice here\",\n",
      "            \"c\": \"choice here\",\n",
      "            \"d\": \"choice here\"\n",
      "        },\n",
      "        \"correct\": \"correct answer\"\n",
      "    }\n",
      "}\n",
      "\u001b[0m\n"
     ]
    },
    {
     "name": "stderr",
     "output_type": "stream",
     "text": [
      "Error in StdOutCallbackHandler.on_chain_start callback: AttributeError(\"'NoneType' object has no attribute 'get'\")\n"
     ]
    },
    {
     "name": "stdout",
     "output_type": "stream",
     "text": [
      "\n",
      "\u001b[1m> Finished chain.\u001b[0m\n",
      "Prompt after formatting:\n",
      "\u001b[32;1m\u001b[1;3m\n",
      "You are an expert in english gramary and writer. Given a Multiple Choice Quiz for Biology students.You need to evaluate the complexity of the question and give a complete analysis of the quiz. Only use at max 50 words for complexity analysis. \n",
      "if the quiz is not at per with the cognitive and analytical abilities of the students,update the quiz questions which needs to be changed and change the tone such that it perfectly fits the student abilities\n",
      "Quiz_MCQs:\n",
      "\n",
      "{\n",
      "    \"1\": {\n",
      "        \"mcq\": \"What is the scientific study of life called?\",\n",
      "        \"options\": {\n",
      "            \"a\": \"Chemistry\",\n",
      "            \"b\": \"Biology\",\n",
      "            \"c\": \"Physics\",\n",
      "            \"d\": \"Geology\"\n",
      "        },\n",
      "        \"correct\": \"b\"\n",
      "    },\n",
      "    \"2\": {\n",
      "        \"mcq\": \"Which theme in biology explains the unity and diversity of life?\",\n",
      "        \"options\": {\n",
      "            \"a\": \"Evolution\",\n",
      "            \"b\": \"Energy processing\",\n",
      "            \"c\": \"Cell structure\",\n",
      "            \"d\": \"Regulation of internal environments\"\n",
      "        },\n",
      "        \"correct\": \"a\"\n",
      "    },\n",
      "    \"3\": {\n",
      "        \"mcq\": \"What is the main unit of organization in biology?\",\n",
      "        \"options\": {\n",
      "            \"a\": \"Atoms\",\n",
      "            \"b\": \"Cells\",\n",
      "            \"c\": \"Molecules\",\n",
      "            \"d\": \"Organs\"\n",
      "        },\n",
      "        \"correct\": \"b\"\n",
      "    }\n",
      "}\n",
      "\n",
      "Check from an expert English Writer of the above quiz:\n",
      "\u001b[0m\n",
      "\n",
      "\u001b[1m> Finished chain.\u001b[0m\n",
      "\n",
      "\u001b[1m> Finished chain.\u001b[0m\n",
      "{'text': 'Biology is the scientific study of life.[1][2][3] It is a natural science with a broad scope but has several unifying themes that tie it together as a single, coherent field.[1][2][3] For instance, all organisms are made up of cells that process hereditary information encoded in genes, which can be transmitted to future generations. Another major theme is evolution, which explains the unity and diversity of life.[1][2][3] Energy processing is also important to life as it allows organisms to move, grow, and reproduce.[1][2][3] Finally, all organisms are able to regulate their own internal environments.[1][2][3][4][5]\\n\\nBiologists are able to study life at multiple levels of organization,[1] from the molecular biology of a cell to the anatomy and physiology of plants and animals, and evolution of populations.[1][6] Hence, there are multiple subdisciplines within biology, each defined by the nature of their research questions and the tools that they use.[7][8][9] Like other scientists, biologists use the scientific method to make observations, pose questions, generate hypotheses, perform experiments, and form conclusions about the world around them.[1]\\n\\nLife on Earth, which emerged more than 3.7 billion years ago,[10] is immensely diverse. Biologists have sought to study and classify the various forms of life, from prokaryotic organisms such as archaea and bacteria to eukaryotic organisms such as protists, fungi, plants, and animals. These various organisms contribute to the biodiversity of an ecosystem, where they play specialized roles in the cycling of nutrients and energy through their biophysical environment.', 'number': 3, 'subject': 'Biology', 'tone': 'simple', 'response_json': '{\\n    \"1\": {\\n        \"mcq\": \"multiple choice question\",\\n        \"options\": {\\n            \"a\": \"choice here\",\\n            \"b\": \"choice here\",\\n            \"c\": \"choice here\",\\n            \"d\": \"choice here\"\\n        },\\n        \"correct\": \"correct answer\"\\n    },\\n    \"2\": {\\n        \"mcq\": \"multiple choice question\",\\n        \"options\": {\\n            \"a\": \"choice here\",\\n            \"b\": \"choice here\",\\n            \"c\": \"choice here\",\\n            \"d\": \"choice here\"\\n        },\\n        \"correct\": \"correct answer\"\\n    },\\n    \"3\": {\\n        \"mcq\": \"multiple choice question\",\\n        \"options\": {\\n            \"a\": \"choice here\",\\n            \"b\": \"choice here\",\\n            \"c\": \"choice here\",\\n            \"d\": \"choice here\"\\n        },\\n        \"correct\": \"correct answer\"\\n    }\\n}', 'quiz': '\\n{\\n    \"1\": {\\n        \"mcq\": \"What is the scientific study of life called?\",\\n        \"options\": {\\n            \"a\": \"Chemistry\",\\n            \"b\": \"Biology\",\\n            \"c\": \"Physics\",\\n            \"d\": \"Geology\"\\n        },\\n        \"correct\": \"b\"\\n    },\\n    \"2\": {\\n        \"mcq\": \"Which theme in biology explains the unity and diversity of life?\",\\n        \"options\": {\\n            \"a\": \"Evolution\",\\n            \"b\": \"Energy processing\",\\n            \"c\": \"Cell structure\",\\n            \"d\": \"Regulation of internal environments\"\\n        },\\n        \"correct\": \"a\"\\n    },\\n    \"3\": {\\n        \"mcq\": \"What is the main unit of organization in biology?\",\\n        \"options\": {\\n            \"a\": \"Atoms\",\\n            \"b\": \"Cells\",\\n            \"c\": \"Molecules\",\\n            \"d\": \"Organs\"\\n        },\\n        \"correct\": \"b\"\\n    }\\n}', 'review': 'The complexity of the quiz questions is appropriate for biology students. The questions cover fundamental concepts in biology and require basic understanding of the subject. The tone is clear and suitable for students at the introductory level. No changes are needed.'}\n"
     ]
    }
   ],
   "source": [
    "# how to use the callback to get the cost of the API call\n",
    "# get the cost of the API call\n",
    "# https://platform.openai.com/docs/guides/gpt/costs-and-billing\n",
    "with get_openai_callback() as cb:\n",
    "    response=generate_evaluate_chain({\"text\": TEXT, \"number\": NUMBER, \"subject\": SUBJECT, \"tone\": TONE, \"response_json\": str_res_json})\n",
    "    print(response)"
   ]
  },
  {
   "cell_type": "code",
   "execution_count": 156,
   "id": "d2c0716b",
   "metadata": {},
   "outputs": [
    {
     "name": "stdout",
     "output_type": "stream",
     "text": [
      "Total Tokens:1219\n",
      "Prompt Tokens:961\n",
      "Completion Tokens:258\n",
      "Total Cost:0.0019575\n"
     ]
    }
   ],
   "source": [
    "print(f\"Total Tokens:{cb.total_tokens}\")\n",
    "print(f\"Prompt Tokens:{cb.prompt_tokens}\")\n",
    "print(f\"Completion Tokens:{cb.completion_tokens}\")\n",
    "print(f\"Total Cost:{cb.total_cost}\")"
   ]
  },
  {
   "cell_type": "code",
   "execution_count": 157,
   "id": "e6126f1e",
   "metadata": {},
   "outputs": [],
   "source": [
    "quiz=json.loads(response.get(\"quiz\"))"
   ]
  },
  {
   "cell_type": "code",
   "execution_count": 158,
   "id": "90843f7d",
   "metadata": {},
   "outputs": [
    {
     "data": {
      "text/plain": [
       "{'1': {'mcq': 'What is the scientific study of life called?',\n",
       "  'options': {'a': 'Chemistry',\n",
       "   'b': 'Biology',\n",
       "   'c': 'Physics',\n",
       "   'd': 'Geology'},\n",
       "  'correct': 'b'},\n",
       " '2': {'mcq': 'Which theme in biology explains the unity and diversity of life?',\n",
       "  'options': {'a': 'Evolution',\n",
       "   'b': 'Energy processing',\n",
       "   'c': 'Cell structure',\n",
       "   'd': 'Regulation of internal environments'},\n",
       "  'correct': 'a'},\n",
       " '3': {'mcq': 'What is the main unit of organization in biology?',\n",
       "  'options': {'a': 'Atoms', 'b': 'Cells', 'c': 'Molecules', 'd': 'Organs'},\n",
       "  'correct': 'b'}}"
      ]
     },
     "execution_count": 158,
     "metadata": {},
     "output_type": "execute_result"
    }
   ],
   "source": [
    "quiz"
   ]
  },
  {
   "cell_type": "code",
   "execution_count": 159,
   "id": "c25b9267",
   "metadata": {},
   "outputs": [],
   "source": [
    "quiz_table_data=[ {\n",
    "    \"question\":value[\"mcq\"],\n",
    "    \"options\":\" | \".join([ f\"{option_key}: {option_value}\" for option_key,option_value in value[\"options\"].items() ]),\n",
    "    \"correct\":value[\"correct\"],\n",
    "\n",
    "}   for key,value in quiz.items()\n",
    " ]"
   ]
  },
  {
   "cell_type": "code",
   "execution_count": 160,
   "id": "ce5d9b8c",
   "metadata": {},
   "outputs": [
    {
     "data": {
      "text/plain": [
       "[{'question': 'What is the scientific study of life called?',\n",
       "  'options': 'a: Chemistry | b: Biology | c: Physics | d: Geology',\n",
       "  'correct': 'b'},\n",
       " {'question': 'Which theme in biology explains the unity and diversity of life?',\n",
       "  'options': 'a: Evolution | b: Energy processing | c: Cell structure | d: Regulation of internal environments',\n",
       "  'correct': 'a'},\n",
       " {'question': 'What is the main unit of organization in biology?',\n",
       "  'options': 'a: Atoms | b: Cells | c: Molecules | d: Organs',\n",
       "  'correct': 'b'}]"
      ]
     },
     "execution_count": 160,
     "metadata": {},
     "output_type": "execute_result"
    }
   ],
   "source": [
    "quiz_table_data"
   ]
  },
  {
   "cell_type": "code",
   "execution_count": 161,
   "id": "f3b96714",
   "metadata": {},
   "outputs": [],
   "source": [
    "quiz=pd.DataFrame(quiz_table_data)"
   ]
  },
  {
   "cell_type": "code",
   "execution_count": 162,
   "id": "0be2ede0",
   "metadata": {},
   "outputs": [],
   "source": [
    "quiz.to_csv(\"./quiz.csv\", index=False)"
   ]
  },
  {
   "cell_type": "code",
   "execution_count": 1,
   "id": "03cd98a8",
   "metadata": {},
   "outputs": [],
   "source": [
    "import os\n",
    "import logging\n",
    "from datetime import datetime\n",
    "\n",
    "LOG_FILE=f\"{datetime.now().strftime('%m_%d_%Y_%H_%M_%S')}.log\"\n"
   ]
  },
  {
   "cell_type": "code",
   "execution_count": 2,
   "id": "6dee10b0",
   "metadata": {},
   "outputs": [
    {
     "data": {
      "text/plain": [
       "'04_17_2025_12_57_27.log'"
      ]
     },
     "execution_count": 2,
     "metadata": {},
     "output_type": "execute_result"
    }
   ],
   "source": [
    "LOG_FILE"
   ]
  }
 ],
 "metadata": {
  "kernelspec": {
   "display_name": "Python 3",
   "language": "python",
   "name": "python3"
  },
  "language_info": {
   "codemirror_mode": {
    "name": "ipython",
    "version": 3
   },
   "file_extension": ".py",
   "mimetype": "text/x-python",
   "name": "python",
   "nbconvert_exporter": "python",
   "pygments_lexer": "ipython3",
   "version": "3.8.20"
  }
 },
 "nbformat": 4,
 "nbformat_minor": 5
}
